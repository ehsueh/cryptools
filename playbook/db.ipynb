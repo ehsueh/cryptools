{
 "cells": [
  {
   "cell_type": "markdown",
   "metadata": {},
   "source": [
    "### Database Handler"
   ]
  },
  {
   "cell_type": "code",
   "execution_count": 181,
   "metadata": {},
   "outputs": [],
   "source": [
    "import MySQLdb # database connector for MySQL\n",
    "import time\n",
    "import yaml\n",
    "import pandas as pd"
   ]
  },
  {
   "cell_type": "code",
   "execution_count": 206,
   "metadata": {},
   "outputs": [],
   "source": [
    "def get_exchange_id(exchange):\n",
    "    \"\"\"Get id of exchange\"\"\"\n",
    "    status = cursor.execute(\"\"\"select id from `exchange` where name = lower('{}')\"\"\".format(exchange))\n",
    "    return(0 if status == 0 else cursor.fetchall()[0][0])\n",
    "\n",
    "def get_currency_id(currency):\n",
    "    \"\"\"Get id of currency\"\"\"\n",
    "    status = cursor.execute(\"\"\"select id from currency where symbol = lower('{}')\"\"\".format(currency))\n",
    "    return(0 if status == 0 else cursor.fetchall()[0][0])\n",
    "\n",
    "def get_currency_pair_id(currency_pair):\n",
    "    \"\"\"Get id of currency pair\"\"\"\n",
    "    status = cursor.execute(\"\"\"select id from currency_pair where base_id = '{}' and counter_id = '{}'\"\"\"\n",
    "                            .format(get_currency_id(currency_pair[0]),\n",
    "                                    get_currency_id(currency_pair[1])))\n",
    "    return(0 if status == 0 else cursor.fetchall()[0][0])\n",
    "\n",
    "def get_strategy_id(name, code_file):\n",
    "    \"\"\"Get id of strategy\"\"\"\n",
    "    status = cursor.execute(\"\"\"select id from strategy where name = '{}' and code_file = '{}'\"\"\".format(name, code_file))\n",
    "    return(0 if status == 0 else cursor.fetchall()[0][0])\n",
    "\n",
    "def get_agent_id(strategy_id, param_file):\n",
    "    \"\"\"Get id of agent\"\"\"\n",
    "    status = cursor.execute(\"\"\"select id from agent where strategy_id = {} and param_file = '{}'\"\"\"\n",
    "                            .format(strategy_id, param_file))\n",
    "    return(0 if status == 0 else cursor.fetchall()[0][0])\n",
    "\n",
    "def get_run_id(exchange_id, currency_pair_id, agent_id):\n",
    "    \"\"\"Get id of run\"\"\"\n",
    "    status = cursor.execute(\"\"\"select id from run where exchange_id = {} \n",
    "                            and currency_pair_id = {}\n",
    "                            and agent_id = {}\"\"\".format(exchange_id, currency_pair_id, agent_id))\n",
    "    return(0 if status == 0 else cursor.fetchall()[0][0])\n",
    "\n",
    "def add_exchanges(exchanges):\n",
    "    \"\"\"Add a list of exchanges and return a list of ids\"\"\"\n",
    "    ids = []\n",
    "    for exchange in exchanges:\n",
    "        cursor.execute(\"\"\"insert ignore into `exchange` (name) values ('{}')\"\"\".format(exchange))\n",
    "        ids.append(get_exchange_id(exchange))\n",
    "        db.commit()\n",
    "    return(ids)\n",
    "    \n",
    "def add_currencies(currencies):\n",
    "    \"\"\"Add a list of currencies and return a list of ids\"\"\"\n",
    "    ids = []\n",
    "    for currency in currencies:\n",
    "        cursor.execute(\"\"\"insert ignore into currency (symbol) values ('{}')\"\"\".format(currency.lower()))\n",
    "        ids.append(get_currency_id(currency.lower()))\n",
    "        db.commit()\n",
    "    return(ids)\n",
    "\n",
    "def add_currency_pairs(currency_pairs):\n",
    "    \"\"\"Add a list of currency pair tuples (base, counter) and return a list of ids\"\"\"\n",
    "    ids = []\n",
    "    for currency_pair in currency_pairs:\n",
    "        base_id = get_currency_id(currency_pair[0])\n",
    "        counter_id = get_currency_id(currency_pair[1])\n",
    "        if base_id == 0 or counter_id == 0:\n",
    "            print(\"Base or counter symbol missing in database. Add both currencies first before adding currency pair.\")\n",
    "            ids.append(0)\n",
    "        else: \n",
    "            cursor.execute(\"\"\"insert ignore into currency_pair (base_id, counter_id) values ({}, {})\"\"\"\n",
    "                       .format(base_id, counter_id))\n",
    "            db.commit()\n",
    "            ids.append(get_currency_pair_id(currency_pair))\n",
    "    return(ids)\n",
    "\n",
    "def add_strategy(name, code_file):\n",
    "    \"\"\"Add a strategy and return its id\"\"\"\n",
    "    cursor.execute(\"\"\"insert ignore into strategy (name, code_file) values ('{}', '{}')\"\"\".format(name, code_file))\n",
    "    db.commit()\n",
    "    return(get_strategy_id(name, code_file))\n",
    "\n",
    "def add_agent(strategy_id, param_file):\n",
    "    \"\"\"Add an agent tuples and return its id\"\"\"\n",
    "    cursor.execute(\"\"\"insert ignore into agent (strategy_id, param_file) values ({}, '{}')\"\"\"\n",
    "                   .format(strategy_id, param_file))\n",
    "    db.commit()\n",
    "    return(get_agent_id(strategy_id, param_file))\n",
    "\n",
    "def add_run(exchange_id, currency_pair_id, agent_id):\n",
    "    \"\"\"Add a run and return its id\"\"\"\n",
    "    cursor.execute(\"\"\"insert ignore into run (exchange_id, currency_pair_id, agent_id) values ({}, {}, {})\"\"\"\n",
    "                  .format(exchange_id, currency_pair_id, agent_id))\n",
    "    db.commit()\n",
    "    return(get_run_id(exchange_id, currency_pair_id, agent_id))\n",
    "\n",
    "def add_order(exchange_id, currency_pair_id, order_number, order_create_time,\n",
    "                  run_id, type, price, order_amount, filled_amount, fee, status):\n",
    "    \"\"\"Add an order into database\"\"\"\n",
    "    status = cursor.execute(\"\"\"insert into order_summary \n",
    "                (exchange_id, currency_pair_id, order_number, order_create_time, \n",
    "                 run_id, type, price, order_amount, filled_amount, fee, status) \n",
    "                 values ({}, {}, '{}', '{}', {}, {}, {}, {}, {}, {}, {})\"\"\"\n",
    "                .format(exchange_id, currency_pair_id, order_number, order_create_time,\n",
    "                 run_id, type, price, order_amount, filled_amount, fee, status))\n",
    "    db.commit()\n",
    "    return(0 if status == 0 else cursor.lastrowid)\n",
    "\n",
    "def get_all_orders():\n",
    "    \"\"\"Get all the orders and return as [[column names], tuple of tuples]\"\"\"\n",
    "    status = cursor.execute(\"\"\"select order_summary.id, timestamp, \n",
    "        order_create_time, order_number, \n",
    "        type, price, order_amount, filled_amount, fee, status,\n",
    "        exchange.name as exchange, agent.param_file,\n",
    "        strategy.name as strategy, strategy.code_file from order_summary \n",
    "        left join run on run.id = order_summary.run_id\n",
    "        left join exchange on exchange.id = run.exchange_id\n",
    "        left join agent on agent.id = run.agent_id\n",
    "        left join strategy on strategy.id = agent.strategy_id\"\"\")\n",
    "    column_names = [i[0] for i in cursor.description]\n",
    "    return(0 if status == 0 else [column_names, cursor.fetchall()])\n",
    "\n",
    "def get_all_runs():\n",
    "    \"\"\"Get all the runs and return as [[column names], tuple of tuples]\"\"\"\n",
    "    status = cursor.execute(\"\"\"select run.id, exchange.name as exchange, agent.param_file,\n",
    "        strategy.name as strategy, strategy.code_file from run \n",
    "        left join exchange on exchange.id = run.exchange_id\n",
    "        left join agent on agent.id = run.agent_id\n",
    "        left join strategy on strategy.id = agent.strategy_id\"\"\")\n",
    "    column_names = [i[0] for i in cursor.description]\n",
    "    return(0 if status == 0 else [column_names, cursor.fetchall()])\n",
    "\n",
    "def res_as_df(res):\n",
    "    \"\"\"Convert tuples from db fetches as panda dataframes\"\"\"\n",
    "    return(pd.DataFrame(list(res[1]), columns = res[0]))"
   ]
  },
  {
   "cell_type": "markdown",
   "metadata": {},
   "source": [
    "### Setting Up"
   ]
  },
  {
   "cell_type": "markdown",
   "metadata": {},
   "source": [
    "Read from configuration file"
   ]
  },
  {
   "cell_type": "code",
   "execution_count": 138,
   "metadata": {},
   "outputs": [],
   "source": [
    "with open(\"config.yml\", 'r') as f:\n",
    "    config = yaml.safe_load(f)\n",
    "db = MySQLdb.connect(passwd=config['mysql']['passwd'], db=config['mysql']['db'], user=config['mysql']['user'])\n",
    "cursor = db.cursor()"
   ]
  },
  {
   "cell_type": "markdown",
   "metadata": {},
   "source": [
    "Adding exchanges, currency and currency pairs to support:"
   ]
  },
  {
   "cell_type": "code",
   "execution_count": 139,
   "metadata": {},
   "outputs": [],
   "source": [
    "exchange_ids = add_exchanges([\"bitfinex\", \"binance\", \"bitz\", \"huobipro\"])\n",
    "currency_ids = add_currencies([\"btc\", \"eth\", \"usd\"])\n",
    "currency_pairs_ids = add_currency_pairs([(\"eth\",\"btc\"), (\"btc\",\"usd\")])"
   ]
  }
 ],
 "metadata": {
  "kernelspec": {
   "display_name": "Python 3",
   "language": "python",
   "name": "python3"
  },
  "language_info": {
   "codemirror_mode": {
    "name": "ipython",
    "version": 3
   },
   "file_extension": ".py",
   "mimetype": "text/x-python",
   "name": "python",
   "nbconvert_exporter": "python",
   "pygments_lexer": "ipython3",
   "version": "3.7.3"
  }
 },
 "nbformat": 4,
 "nbformat_minor": 2
}
