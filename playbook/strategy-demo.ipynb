{
 "cells": [
  {
   "cell_type": "markdown",
   "metadata": {},
   "source": [
    "### Dummy Demo Strategy"
   ]
  },
  {
   "cell_type": "code",
   "execution_count": null,
   "metadata": {},
   "outputs": [],
   "source": [
    "# Dummy 'strategy' for demo purpose\n",
    "print(\"Available \" + base + \": \" + str(balance.get(base).get('free')))\n",
    "if balance.get(base).get('free') > 0.2:\n",
    "    price = huobipro.fetch_ticker(currencyPair).get('low')\n",
    "    amount = 0.001\n",
    "    print(\"Placing an order of \" + str(amount) + \" at ticker's low: \" + str(price))\n",
    "#    huobipro.create_limit_buy_order(currencyPair, amount, price)\n",
    "    \n",
    "if (huobipro.has['fetchOpenOrders']):\n",
    "    print(\"Open orders:\") \n",
    "    print(huobipro.fetchOpenOrders (currencyPair))"
   ]
  }
 ],
 "metadata": {
  "kernelspec": {
   "display_name": "Python 3",
   "language": "python",
   "name": "python3"
  },
  "language_info": {
   "codemirror_mode": {
    "name": "ipython",
    "version": 3
   },
   "file_extension": ".py",
   "mimetype": "text/x-python",
   "name": "python",
   "nbconvert_exporter": "python",
   "pygments_lexer": "ipython3",
   "version": "3.7.3"
  }
 },
 "nbformat": 4,
 "nbformat_minor": 2
}
